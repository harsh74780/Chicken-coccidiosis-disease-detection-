{
 "cells": [
  {
   "cell_type": "code",
   "execution_count": 1,
   "metadata": {},
   "outputs": [],
   "source": [
    "import os"
   ]
  },
  {
   "cell_type": "code",
   "execution_count": 2,
   "metadata": {},
   "outputs": [
    {
     "data": {
      "text/plain": [
       "'C:\\\\Users\\\\Dell\\\\OneDrive\\\\Desktop\\\\RM PROJECT\\\\Chicken-Disease-Classification--Project\\\\research'"
      ]
     },
     "execution_count": 2,
     "metadata": {},
     "output_type": "execute_result"
    }
   ],
   "source": [
    "%pwd"
   ]
  },
  {
   "cell_type": "code",
   "execution_count": 3,
   "metadata": {},
   "outputs": [],
   "source": [
    "os.chdir(\"../\")"
   ]
  },
  {
   "cell_type": "code",
   "execution_count": 4,
   "metadata": {},
   "outputs": [
    {
     "data": {
      "text/plain": [
       "'C:\\\\Users\\\\Dell\\\\OneDrive\\\\Desktop\\\\RM PROJECT\\\\Chicken-Disease-Classification--Project'"
      ]
     },
     "execution_count": 4,
     "metadata": {},
     "output_type": "execute_result"
    }
   ],
   "source": [
    "%pwd"
   ]
  },
  {
   "cell_type": "code",
   "execution_count": 5,
   "metadata": {},
   "outputs": [],
   "source": [
    "from dataclasses import dataclass\n",
    "from pathlib import Path\n",
    "\n",
    "\n",
    "@dataclass(frozen=True)\n",
    "class TrainingConfig:\n",
    "    root_dir: Path\n",
    "    trained_model_path: Path\n",
    "    updated_base_model_path: Path\n",
    "    training_data: Path\n",
    "    params_epochs: int\n",
    "    params_batch_size: int\n",
    "    params_is_augmentation: bool\n",
    "    params_image_size: list\n",
    "\n",
    "\n",
    "\n",
    "@dataclass(frozen=True)\n",
    "class PrepareCallbacksConfig:\n",
    "    root_dir: Path\n",
    "    tensorboard_root_log_dir: Path\n",
    "    checkpoint_model_filepath: Path"
   ]
  },
  {
   "cell_type": "code",
   "execution_count": 6,
   "metadata": {},
   "outputs": [],
   "source": [
    "from cnnClassifier.constants import *\n",
    "from cnnClassifier.utils.common import read_yaml, create_directories\n",
    "import tensorflow as tf"
   ]
  },
  {
   "cell_type": "code",
   "execution_count": 7,
   "metadata": {},
   "outputs": [],
   "source": [
    "class ConfigurationManager:\n",
    "    def __init__(\n",
    "        self, \n",
    "        config_filepath = CONFIG_FILE_PATH,\n",
    "        params_filepath = PARAMS_FILE_PATH):\n",
    "        self.config = read_yaml(config_filepath)\n",
    "        self.params = read_yaml(params_filepath)\n",
    "        create_directories([self.config.artifacts_root])\n",
    "\n",
    "\n",
    "    \n",
    "    def get_prepare_callback_config(self) -> PrepareCallbacksConfig:\n",
    "        config = self.config.prepare_callbacks\n",
    "        model_ckpt_dir = os.path.dirname(config.checkpoint_model_filepath)\n",
    "        create_directories([\n",
    "            Path(model_ckpt_dir),\n",
    "            Path(config.tensorboard_root_log_dir)\n",
    "        ])\n",
    "\n",
    "        prepare_callback_config = PrepareCallbacksConfig(\n",
    "            root_dir=Path(config.root_dir),\n",
    "            tensorboard_root_log_dir=Path(config.tensorboard_root_log_dir),\n",
    "            checkpoint_model_filepath=Path(config.checkpoint_model_filepath)\n",
    "        )\n",
    "\n",
    "        return prepare_callback_config\n",
    "    \n",
    "\n",
    "\n",
    "\n",
    "\n",
    "    def get_training_config(self) -> TrainingConfig:\n",
    "        training = self.config.training\n",
    "        prepare_base_model = self.config.prepare_base_model\n",
    "        params = self.params\n",
    "        training_data = os.path.join(self.config.data_ingestion.unzip_dir, \"Chicken-fecal-images\")\n",
    "        create_directories([\n",
    "            Path(training.root_dir)\n",
    "        ])\n",
    "\n",
    "        training_config = TrainingConfig(\n",
    "            root_dir=Path(training.root_dir),\n",
    "            trained_model_path=Path(training.trained_model_path),\n",
    "            updated_base_model_path=Path(prepare_base_model.updated_base_model_path),\n",
    "            training_data=Path(training_data),\n",
    "            params_epochs=params.EPOCHS,\n",
    "            params_batch_size=params.BATCH_SIZE,\n",
    "            params_is_augmentation=params.AUGMENTATION,\n",
    "            params_image_size=params.IMAGE_SIZE\n",
    "        )\n",
    "\n",
    "        return training_config"
   ]
  },
  {
   "cell_type": "code",
   "execution_count": 8,
   "metadata": {},
   "outputs": [],
   "source": [
    "import time"
   ]
  },
  {
   "cell_type": "code",
   "execution_count": 9,
   "metadata": {},
   "outputs": [],
   "source": [
    "class PrepareCallback:\n",
    "    def __init__(self, config: PrepareCallbacksConfig):\n",
    "        self.config = config\n",
    "\n",
    "\n",
    "    \n",
    "    @property\n",
    "    def _create_tb_callbacks(self):\n",
    "        timestamp = time.strftime(\"%Y-%m-%d-%H-%M-%S\")\n",
    "        tb_running_log_dir = os.path.join(\n",
    "            self.config.tensorboard_root_log_dir,\n",
    "            f\"tb_logs_at_{timestamp}\",\n",
    "        )\n",
    "        return tf.keras.callbacks.TensorBoard(log_dir=tb_running_log_dir)\n",
    "    \n",
    "\n",
    "    @property\n",
    "    def _create_ckpt_callbacks(self):\n",
    "        return tf.keras.callbacks.ModelCheckpoint(\n",
    "            filepath=self.config.checkpoint_model_filepath,\n",
    "            save_best_only=True\n",
    "        )\n",
    "\n",
    "\n",
    "    def get_tb_ckpt_callbacks(self):\n",
    "        return [\n",
    "            self._create_tb_callbacks,\n",
    "            self._create_ckpt_callbacks\n",
    "        ]\n"
   ]
  },
  {
   "cell_type": "code",
   "execution_count": 10,
   "metadata": {},
   "outputs": [],
   "source": [
    "import os\n",
    "import urllib.request as request\n",
    "from zipfile import ZipFile\n",
    "import tensorflow as tf\n",
    "import time"
   ]
  },
  {
   "cell_type": "code",
   "execution_count": 11,
   "metadata": {},
   "outputs": [],
   "source": [
    "class Training:\n",
    "    def __init__(self, config: TrainingConfig):\n",
    "        self.config = config\n",
    "    \n",
    "    def get_base_model(self):\n",
    "        self.model = tf.keras.models.load_model(\n",
    "            self.config.updated_base_model_path\n",
    "        )\n",
    "    \n",
    "    def train_valid_generator(self):\n",
    "\n",
    "        datagenerator_kwargs = dict(\n",
    "            rescale = 1./255,\n",
    "            validation_split=0.20\n",
    "        )\n",
    "\n",
    "        dataflow_kwargs = dict(\n",
    "            target_size=self.config.params_image_size[:-1],\n",
    "            batch_size=self.config.params_batch_size,\n",
    "            interpolation=\"bilinear\"\n",
    "        )\n",
    "\n",
    "        valid_datagenerator = tf.keras.preprocessing.image.ImageDataGenerator(\n",
    "            **datagenerator_kwargs\n",
    "        )\n",
    "\n",
    "        self.valid_generator = valid_datagenerator.flow_from_directory(\n",
    "            directory=self.config.training_data,\n",
    "            subset=\"validation\",\n",
    "            shuffle=False,\n",
    "            **dataflow_kwargs\n",
    "        )\n",
    "\n",
    "        if self.config.params_is_augmentation:\n",
    "            train_datagenerator = tf.keras.preprocessing.image.ImageDataGenerator(\n",
    "                rotation_range=40,\n",
    "                horizontal_flip=True,\n",
    "                width_shift_range=0.2,\n",
    "                height_shift_range=0.2,\n",
    "                shear_range=0.2,\n",
    "                zoom_range=0.2,\n",
    "                **datagenerator_kwargs\n",
    "            )\n",
    "        else:\n",
    "            train_datagenerator = valid_datagenerator\n",
    "\n",
    "        self.train_generator = train_datagenerator.flow_from_directory(\n",
    "            directory=self.config.training_data,\n",
    "            subset=\"training\",\n",
    "            shuffle=True,\n",
    "            **dataflow_kwargs\n",
    "        )\n",
    "\n",
    "    @staticmethod\n",
    "    def save_model(path: Path, model: tf.keras.Model):\n",
    "        model.save(path)\n",
    "\n",
    "\n",
    "    def train(self, callback_list: list):\n",
    "        self.steps_per_epoch = self.train_generator.samples // self.train_generator.batch_size\n",
    "        self.validation_steps = self.valid_generator.samples // self.valid_generator.batch_size\n",
    "\n",
    "        self.model.fit(\n",
    "            self.train_generator,\n",
    "            #epochs=self.config.params_epochs,\n",
    "            epochs=51,\n",
    "            steps_per_epoch=self.steps_per_epoch,\n",
    "            validation_steps=self.validation_steps,\n",
    "            validation_data=self.valid_generator,\n",
    "            #callbacks=callback_list\n",
    "        )\n",
    "\n",
    "        self.save_model(\n",
    "            path=self.config.trained_model_path,\n",
    "            model=self.model\n",
    "        )\n",
    "\n"
   ]
  },
  {
   "cell_type": "code",
   "execution_count": null,
   "metadata": {},
   "outputs": [
    {
     "name": "stdout",
     "output_type": "stream",
     "text": [
      "[2023-11-19 19:09:49,055: INFO: common: yaml file: config\\config.yaml loaded successfully]\n",
      "[2023-11-19 19:09:49,060: INFO: common: yaml file: params.yaml loaded successfully]\n",
      "[2023-11-19 19:09:49,061: INFO: common: created directory at: artifacts]\n",
      "[2023-11-19 19:09:49,062: INFO: common: created directory at: artifacts\\prepare_callbacks\\checkpoint_dir]\n",
      "[2023-11-19 19:09:49,063: INFO: common: created directory at: artifacts\\prepare_callbacks\\tensorboard_log_dir]\n",
      "[2023-11-19 19:09:49,064: INFO: common: created directory at: artifacts\\training]\n",
      "Found 78 images belonging to 2 classes.\n",
      "Found 312 images belonging to 2 classes.\n",
      "Epoch 1/51\n",
      "19/19 [==============================] - 35s 2s/step - loss: 14.1173 - accuracy: 0.5000 - val_loss: 35.1279 - val_accuracy: 0.3906\n",
      "Epoch 2/51\n",
      "19/19 [==============================] - 37s 2s/step - loss: 8.6748 - accuracy: 0.5946 - val_loss: 1.1738 - val_accuracy: 0.8281\n",
      "Epoch 3/51\n",
      "19/19 [==============================] - 36s 2s/step - loss: 2.7333 - accuracy: 0.7939 - val_loss: 1.6447 - val_accuracy: 0.7812\n",
      "Epoch 4/51\n",
      "19/19 [==============================] - 38s 2s/step - loss: 2.1643 - accuracy: 0.8176 - val_loss: 0.9549 - val_accuracy: 0.8906\n",
      "Epoch 5/51\n",
      "19/19 [==============================] - 41s 2s/step - loss: 0.9269 - accuracy: 0.8953 - val_loss: 1.8592 - val_accuracy: 0.8438\n",
      "Epoch 6/51\n",
      "19/19 [==============================] - 41s 2s/step - loss: 2.7306 - accuracy: 0.7669 - val_loss: 1.3821 - val_accuracy: 0.8125\n",
      "Epoch 7/51\n",
      "19/19 [==============================] - 40s 2s/step - loss: 1.3909 - accuracy: 0.8615 - val_loss: 0.8584 - val_accuracy: 0.9062\n",
      "Epoch 8/51\n",
      "19/19 [==============================] - 41s 2s/step - loss: 0.6035 - accuracy: 0.9257 - val_loss: 1.9004 - val_accuracy: 0.7812\n",
      "Epoch 9/51\n",
      "19/19 [==============================] - 39s 2s/step - loss: 0.6032 - accuracy: 0.9189 - val_loss: 0.8059 - val_accuracy: 0.9062\n",
      "Epoch 10/51\n",
      "19/19 [==============================] - 42s 2s/step - loss: 0.6322 - accuracy: 0.8919 - val_loss: 0.8795 - val_accuracy: 0.9219\n",
      "Epoch 11/51\n",
      "19/19 [==============================] - 43s 2s/step - loss: 0.4507 - accuracy: 0.9257 - val_loss: 0.7335 - val_accuracy: 0.9219\n",
      "Epoch 12/51\n",
      "19/19 [==============================] - 43s 2s/step - loss: 0.6092 - accuracy: 0.9211 - val_loss: 0.8186 - val_accuracy: 0.9062\n",
      "Epoch 13/51\n",
      "19/19 [==============================] - 42s 2s/step - loss: 1.0350 - accuracy: 0.8716 - val_loss: 0.8199 - val_accuracy: 0.9219\n",
      "Epoch 14/51\n",
      "19/19 [==============================] - 43s 2s/step - loss: 0.3039 - accuracy: 0.9257 - val_loss: 0.7047 - val_accuracy: 0.9219\n",
      "Epoch 15/51\n",
      "19/19 [==============================] - 43s 2s/step - loss: 0.4048 - accuracy: 0.9257 - val_loss: 1.6326 - val_accuracy: 0.8594\n",
      "Epoch 16/51\n",
      "19/19 [==============================] - 45s 2s/step - loss: 0.5617 - accuracy: 0.9324 - val_loss: 0.9916 - val_accuracy: 0.9062\n",
      "Epoch 17/51\n",
      "19/19 [==============================] - 42s 2s/step - loss: 0.4307 - accuracy: 0.9358 - val_loss: 0.9201 - val_accuracy: 0.9062\n",
      "Epoch 18/51\n",
      "19/19 [==============================] - 38s 2s/step - loss: 0.4607 - accuracy: 0.9155 - val_loss: 0.7028 - val_accuracy: 0.9062\n",
      "Epoch 19/51\n",
      "19/19 [==============================] - 39s 2s/step - loss: 2.0145 - accuracy: 0.8345 - val_loss: 1.0383 - val_accuracy: 0.9062\n",
      "Epoch 20/51\n",
      "19/19 [==============================] - 43s 2s/step - loss: 0.5895 - accuracy: 0.9112 - val_loss: 2.3656 - val_accuracy: 0.7500\n",
      "Epoch 21/51\n",
      "19/19 [==============================] - 42s 2s/step - loss: 0.4248 - accuracy: 0.9324 - val_loss: 0.7195 - val_accuracy: 0.9219\n",
      "Epoch 22/51\n",
      "19/19 [==============================] - 42s 2s/step - loss: 0.5307 - accuracy: 0.9155 - val_loss: 0.7551 - val_accuracy: 0.9375\n",
      "Epoch 23/51\n",
      "19/19 [==============================] - 44s 2s/step - loss: 0.3134 - accuracy: 0.9527 - val_loss: 0.7350 - val_accuracy: 0.9219\n",
      "Epoch 24/51\n",
      "19/19 [==============================] - 42s 2s/step - loss: 1.1923 - accuracy: 0.8851 - val_loss: 0.7517 - val_accuracy: 0.9375\n",
      "Epoch 25/51\n",
      "19/19 [==============================] - 40s 2s/step - loss: 0.4272 - accuracy: 0.9426 - val_loss: 0.7037 - val_accuracy: 0.9375\n",
      "Epoch 26/51\n",
      "19/19 [==============================] - 39s 2s/step - loss: 0.2169 - accuracy: 0.9628 - val_loss: 0.7428 - val_accuracy: 0.9375\n",
      "Epoch 27/51\n",
      " 4/19 [=====>........................] - ETA: 25s - loss: 0.6038 - accuracy: 0.8906"
     ]
    }
   ],
   "source": [
    "try:\n",
    "    config = ConfigurationManager()\n",
    "    prepare_callbacks_config = config.get_prepare_callback_config()\n",
    "    prepare_callbacks = PrepareCallback(config=prepare_callbacks_config)\n",
    "    #callback_list = prepare_callbacks.get_tb_ckpt_callbacks()\n",
    "\n",
    "    training_config = config.get_training_config()\n",
    "    training = Training(config=training_config)\n",
    "    training.get_base_model()\n",
    "    training.train_valid_generator()\n",
    "    training.train(\n",
    "        callback_list=[]\n",
    "    )\n",
    "    \n",
    "except Exception as e:\n",
    "    raise e"
   ]
  },
  {
   "cell_type": "code",
   "execution_count": null,
   "metadata": {},
   "outputs": [],
   "source": []
  }
 ],
 "metadata": {
  "kernelspec": {
   "display_name": "Python 3 (ipykernel)",
   "language": "python",
   "name": "python3"
  },
  "language_info": {
   "codemirror_mode": {
    "name": "ipython",
    "version": 3
   },
   "file_extension": ".py",
   "mimetype": "text/x-python",
   "name": "python",
   "nbconvert_exporter": "python",
   "pygments_lexer": "ipython3",
   "version": "3.8.18"
  }
 },
 "nbformat": 4,
 "nbformat_minor": 4
}
